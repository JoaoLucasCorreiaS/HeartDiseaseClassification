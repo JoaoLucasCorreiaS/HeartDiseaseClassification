{
 "cells": [
  {
   "cell_type": "markdown",
   "id": "e160c435",
   "metadata": {},
   "source": [
    "# Predict Heart Disease using Machine Learning"
   ]
  },
  {
   "cell_type": "code",
   "execution_count": 1,
   "id": "8c337a38",
   "metadata": {},
   "outputs": [],
   "source": [
    "import pandas as pd\n",
    "import numpy as np\n",
    "import matplotlib.pyplot as plt\n",
    "import pickle\n",
    "import seaborn as sns\n",
    "%matplotlib inline\n",
    "\n",
    "# models - this is a classification problem\n",
    "from sklearn.linear_model import LogisticRegression\n",
    "from sklearn.neighbors import KNeighborsClassifier\n",
    "from sklearn.ensemble import RandomForestClassifier\n",
    "\n",
    "# Model evaluations\n",
    "from sklearn.model_selection import train_test_split, cross_val_score, RandomizedSearchCV, GridSearchCV\n",
    "from sklearn.metrics import confusion_matrix, classification_report, precision_score, recall_score, f1_score, plot_roc_curve"
   ]
  },
  {
   "cell_type": "markdown",
   "id": "fc2a4323",
   "metadata": {},
   "source": [
    "Step by step:\n",
    "1. Problem definition\n",
    "2. Data (from https://www.kaggle.com/c/heart-disease-uci/data)\n",
    "3. Evaluation (estimativas)\n",
    "4. Features (data description)\n",
    "5. Modelling\n",
    "6. Experimentation"
   ]
  },
  {
   "cell_type": "markdown",
   "id": "53958520",
   "metadata": {},
   "source": [
    "**Data description**\n",
    "\n",
    "1. age - The age of the patient;\n",
    "2. sex - The gender of the patient. (1 = male, 0 = female);\n",
    "3. cp - Type of chest pain. (1 = typical angina, 2 = atypical angina, 3 = non — anginal pain, 4 = asymptotic);\n",
    "4. trestbps - Resting blood pressure in mmHg;\n",
    "5. chol - Serum Cholestero in mg/dl;\n",
    "6. fbs - Fasting Blood Sugar. (1 = fasting blood sugar is more than 120mg/dl, 0 = otherwise);\n",
    "7. restecg - Resting ElectroCardioGraphic results (0 = normal, 1 = ST-T wave abnormality, 2 = left ventricular hyperthrophy);\n",
    "8. thalach - Max heart rate achieved;\n",
    "9. exang - Exercise induced angina (1 = yes, 0 = no);\n",
    "10. oldpeak - ST depression induced by exercise relative to rest;\n",
    "11. slope - Peak exercise ST segment (1 = upsloping, 2 = flat, 3 = downsloping);\n",
    "12. ca - Number of major vessels (0–3) colored by flourosopy;\n",
    "13. thal - Thalassemia (3 = normal, 6 = fixed defect, 7 = reversible defect);\n",
    "14. num - Diagnosis of heart disease (0 = absence, 1, 2, 3, 4 = present)."
   ]
  },
  {
   "cell_type": "code",
   "execution_count": 3,
   "id": "5bb411ed",
   "metadata": {},
   "outputs": [
    {
     "data": {
      "text/html": [
       "<div>\n",
       "<style scoped>\n",
       "    .dataframe tbody tr th:only-of-type {\n",
       "        vertical-align: middle;\n",
       "    }\n",
       "\n",
       "    .dataframe tbody tr th {\n",
       "        vertical-align: top;\n",
       "    }\n",
       "\n",
       "    .dataframe thead th {\n",
       "        text-align: right;\n",
       "    }\n",
       "</style>\n",
       "<table border=\"1\" class=\"dataframe\">\n",
       "  <thead>\n",
       "    <tr style=\"text-align: right;\">\n",
       "      <th></th>\n",
       "      <th>age</th>\n",
       "      <th>sex</th>\n",
       "      <th>cp</th>\n",
       "      <th>trestbps</th>\n",
       "      <th>chol</th>\n",
       "      <th>fbs</th>\n",
       "      <th>restecg</th>\n",
       "      <th>thalach</th>\n",
       "      <th>exang</th>\n",
       "      <th>oldpeak</th>\n",
       "      <th>slope</th>\n",
       "      <th>ca</th>\n",
       "      <th>thal</th>\n",
       "      <th>target</th>\n",
       "    </tr>\n",
       "  </thead>\n",
       "  <tbody>\n",
       "    <tr>\n",
       "      <th>0</th>\n",
       "      <td>63</td>\n",
       "      <td>1</td>\n",
       "      <td>3</td>\n",
       "      <td>145</td>\n",
       "      <td>233</td>\n",
       "      <td>1</td>\n",
       "      <td>0</td>\n",
       "      <td>150</td>\n",
       "      <td>0</td>\n",
       "      <td>2.3</td>\n",
       "      <td>0</td>\n",
       "      <td>0</td>\n",
       "      <td>1</td>\n",
       "      <td>1</td>\n",
       "    </tr>\n",
       "    <tr>\n",
       "      <th>1</th>\n",
       "      <td>37</td>\n",
       "      <td>1</td>\n",
       "      <td>2</td>\n",
       "      <td>130</td>\n",
       "      <td>250</td>\n",
       "      <td>0</td>\n",
       "      <td>1</td>\n",
       "      <td>187</td>\n",
       "      <td>0</td>\n",
       "      <td>3.5</td>\n",
       "      <td>0</td>\n",
       "      <td>0</td>\n",
       "      <td>2</td>\n",
       "      <td>1</td>\n",
       "    </tr>\n",
       "    <tr>\n",
       "      <th>2</th>\n",
       "      <td>41</td>\n",
       "      <td>0</td>\n",
       "      <td>1</td>\n",
       "      <td>130</td>\n",
       "      <td>204</td>\n",
       "      <td>0</td>\n",
       "      <td>0</td>\n",
       "      <td>172</td>\n",
       "      <td>0</td>\n",
       "      <td>1.4</td>\n",
       "      <td>2</td>\n",
       "      <td>0</td>\n",
       "      <td>2</td>\n",
       "      <td>1</td>\n",
       "    </tr>\n",
       "    <tr>\n",
       "      <th>3</th>\n",
       "      <td>56</td>\n",
       "      <td>1</td>\n",
       "      <td>1</td>\n",
       "      <td>120</td>\n",
       "      <td>236</td>\n",
       "      <td>0</td>\n",
       "      <td>1</td>\n",
       "      <td>178</td>\n",
       "      <td>0</td>\n",
       "      <td>0.8</td>\n",
       "      <td>2</td>\n",
       "      <td>0</td>\n",
       "      <td>2</td>\n",
       "      <td>1</td>\n",
       "    </tr>\n",
       "    <tr>\n",
       "      <th>4</th>\n",
       "      <td>57</td>\n",
       "      <td>0</td>\n",
       "      <td>0</td>\n",
       "      <td>120</td>\n",
       "      <td>354</td>\n",
       "      <td>0</td>\n",
       "      <td>1</td>\n",
       "      <td>163</td>\n",
       "      <td>1</td>\n",
       "      <td>0.6</td>\n",
       "      <td>2</td>\n",
       "      <td>0</td>\n",
       "      <td>2</td>\n",
       "      <td>1</td>\n",
       "    </tr>\n",
       "  </tbody>\n",
       "</table>\n",
       "</div>"
      ],
      "text/plain": [
       "   age  sex  cp  trestbps  chol  fbs  restecg  thalach  exang  oldpeak  slope  \\\n",
       "0   63    1   3       145   233    1        0      150      0      2.3      0   \n",
       "1   37    1   2       130   250    0        1      187      0      3.5      0   \n",
       "2   41    0   1       130   204    0        0      172      0      1.4      2   \n",
       "3   56    1   1       120   236    0        1      178      0      0.8      2   \n",
       "4   57    0   0       120   354    0        1      163      1      0.6      2   \n",
       "\n",
       "   ca  thal  target  \n",
       "0   0     1       1  \n",
       "1   0     2       1  \n",
       "2   0     2       1  \n",
       "3   0     2       1  \n",
       "4   0     2       1  "
      ]
     },
     "execution_count": 3,
     "metadata": {},
     "output_type": "execute_result"
    }
   ],
   "source": [
    "df = pd.read_csv(\"heart-disease.csv\")\n",
    "df.head()"
   ]
  },
  {
   "cell_type": "markdown",
   "id": "c5e225b5",
   "metadata": {},
   "source": [
    "# EDA\n",
    "\n",
    "Questions to answer:\n",
    "1. What is the problem I'm trying to solve?\n",
    "2. What kind of data I have and how am I going to treat all the different kinds of data (numerical, strings etc.)?\n",
    "3. What is missing on data and how I'll handle it?\n",
    "4. Where are the outliers (dados \"muito distantes dos outros\") and why I care about them?\n",
    "5. How can I add, change or remove features in order to get more of my data?"
   ]
  },
  {
   "cell_type": "code",
   "execution_count": 3,
   "id": "f997f167",
   "metadata": {},
   "outputs": [
    {
     "data": {
      "text/plain": [
       "1    165\n",
       "0    138\n",
       "Name: target, dtype: int64"
      ]
     },
     "execution_count": 3,
     "metadata": {},
     "output_type": "execute_result"
    }
   ],
   "source": [
    "df[\"target\"].value_counts()"
   ]
  },
  {
   "cell_type": "code",
   "execution_count": 4,
   "id": "1aa41e51",
   "metadata": {},
   "outputs": [
    {
     "data": {
      "image/png": "[encoded data removed]",
      "text/plain": [
       "<Figure size 432x288 with 1 Axes>"
      ]
     },
     "metadata": {
      "needs_background": "light"
     },
     "output_type": "display_data"
    }
   ],
   "source": [
    "df[\"target\"].value_counts().plot(kind=\"bar\", color=[\"salmon\", \"lightblue\"]);"
   ]
  },
  {
   "cell_type": "code",
   "execution_count": 5,
   "id": "d348ae30",
   "metadata": {},
   "outputs": [
    {
     "name": "stdout",
     "output_type": "stream",
     "text": [
      "<class 'pandas.core.frame.DataFrame'>\n",
      "RangeIndex: 303 entries, 0 to 302\n",
      "Data columns (total 14 columns):\n",
      " #   Column    Non-Null Count  Dtype  \n",
      "---  ------    --------------  -----  \n",
      " 0   age       303 non-null    int64  \n",
      " 1   sex       303 non-null    int64  \n",
      " 2   cp        303 non-null    int64  \n",
      " 3   trestbps  303 non-null    int64  \n",
      " 4   chol      303 non-null    int64  \n",
      " 5   fbs       303 non-null    int64  \n",
      " 6   restecg   303 non-null    int64  \n",
      " 7   thalach   303 non-null    int64  \n",
      " 8   exang     303 non-null    int64  \n",
      " 9   oldpeak   303 non-null    float64\n",
      " 10  slope     303 non-null    int64  \n",
      " 11  ca        303 non-null    int64  \n",
      " 12  thal      303 non-null    int64  \n",
      " 13  target    303 non-null    int64  \n",
      "dtypes: float64(1), int64(13)\n",
      "memory usage: 33.3 KB\n"
     ]
    }
   ],
   "source": [
    "# Getting some info about DataFrame\n",
    "df.info()"
   ]
  },
  {
   "cell_type": "code",
   "execution_count": 6,
   "id": "4803f9fa",
   "metadata": {},
   "outputs": [
    {
     "data": {
      "text/plain": [
       "age         0\n",
       "sex         0\n",
       "cp          0\n",
       "trestbps    0\n",
       "chol        0\n",
       "fbs         0\n",
       "restecg     0\n",
       "thalach     0\n",
       "exang       0\n",
       "oldpeak     0\n",
       "slope       0\n",
       "ca          0\n",
       "thal        0\n",
       "target      0\n",
       "dtype: int64"
      ]
     },
     "execution_count": 6,
     "metadata": {},
     "output_type": "execute_result"
    }
   ],
   "source": [
    "# Is there missing data?\n",
    "df.isna().sum()"
   ]
  },
  {
   "cell_type": "markdown",
   "id": "a03edca3",
   "metadata": {},
   "source": [
    "### Heart Disease frequency according to sex"
   ]
  },
  {
   "cell_type": "code",
   "execution_count": 7,
   "id": "96eaf0eb",
   "metadata": {},
   "outputs": [
    {
     "data": {
      "text/plain": [
       "1    207\n",
       "0     96\n",
       "Name: sex, dtype: int64"
      ]
     },
     "execution_count": 7,
     "metadata": {},
     "output_type": "execute_result"
    }
   ],
   "source": [
    "df.sex.value_counts() # 1 = male // 0 = female"
   ]
  },
  {
   "cell_type": "code",
   "execution_count": 8,
   "id": "abb7a49b",
   "metadata": {},
   "outputs": [
    {
     "data": {
      "text/html": [
       "<div>\n",
       "<style scoped>\n",
       "    .dataframe tbody tr th:only-of-type {\n",
       "        vertical-align: middle;\n",
       "    }\n",
       "\n",
       "    .dataframe tbody tr th {\n",
       "        vertical-align: top;\n",
       "    }\n",
       "\n",
       "    .dataframe thead th {\n",
       "        text-align: right;\n",
       "    }\n",
       "</style>\n",
       "<table border=\"1\" class=\"dataframe\">\n",
       "  <thead>\n",
       "    <tr style=\"text-align: right;\">\n",
       "      <th>sex</th>\n",
       "      <th>0</th>\n",
       "      <th>1</th>\n",
       "    </tr>\n",
       "    <tr>\n",
       "      <th>target</th>\n",
       "      <th></th>\n",
       "      <th></th>\n",
       "    </tr>\n",
       "  </thead>\n",
       "  <tbody>\n",
       "    <tr>\n",
       "      <th>0</th>\n",
       "      <td>24</td>\n",
       "      <td>114</td>\n",
       "    </tr>\n",
       "    <tr>\n",
       "      <th>1</th>\n",
       "      <td>72</td>\n",
       "      <td>93</td>\n",
       "    </tr>\n",
       "  </tbody>\n",
       "</table>\n",
       "</div>"
      ],
      "text/plain": [
       "sex      0    1\n",
       "target         \n",
       "0       24  114\n",
       "1       72   93"
      ]
     },
     "execution_count": 8,
     "metadata": {},
     "output_type": "execute_result"
    }
   ],
   "source": [
    "# Compare target column with sex column\n",
    "pd.crosstab(df.target, df.sex)"
   ]
  },
  {
   "cell_type": "code",
   "execution_count": 9,
   "id": "52a590b7",
   "metadata": {},
   "outputs": [
    {
     "data": {
      "image/png": "[encoded data removed]",
      "text/plain": [
       "<Figure size 720x432 with 1 Axes>"
      ]
     },
     "metadata": {
      "needs_background": "light"
     },
     "output_type": "display_data"
    }
   ],
   "source": [
    "# Create a plot of crosstab\n",
    "pd.crosstab(df.target, df.sex).plot(kind=\"bar\", figsize=(10,6), color=[\"salmon\",\"lightblue\"])\n",
    "plt.title(\"Heart Disease Frequency for Sex\")\n",
    "plt.xlabel(\"0 = No Disease, 1 = Disease\")\n",
    "plt.ylabel(\"Amount\")\n",
    "plt.legend([\"Female\", \"Male\"])\n",
    "plt.xticks(rotation=0); # este comando rotaciona o que está escrito no eixo-x"
   ]
  },
  {
   "cell_type": "code",
   "execution_count": 10,
   "id": "4fc21501",
   "metadata": {},
   "outputs": [
    {
     "data": {
      "text/plain": [
       "162    11\n",
       "160     9\n",
       "163     9\n",
       "152     8\n",
       "173     8\n",
       "       ..\n",
       "202     1\n",
       "184     1\n",
       "121     1\n",
       "192     1\n",
       "90      1\n",
       "Name: thalach, Length: 91, dtype: int64"
      ]
     },
     "execution_count": 10,
     "metadata": {},
     "output_type": "execute_result"
    }
   ],
   "source": [
    "df[\"thalach\"].value_counts()\n",
    "# o valor de \"lenght\" indica a quantidade de valores diferentes naquela coluna. Dessa forma, não seria interessante\n",
    "# analisar esses valores por meio de gráfico em barra, mas talvez por pontos!"
   ]
  },
  {
   "cell_type": "markdown",
   "id": "c39bc6ba",
   "metadata": {},
   "source": [
    "### Age vs. Max Heart Rate for Heart Disease"
   ]
  },
  {
   "cell_type": "code",
   "execution_count": 11,
   "id": "3ac661a6",
   "metadata": {},
   "outputs": [
    {
     "data": {
      "image/png": "[encoded data removed]",
      "text/plain": [
       "<Figure size 720x432 with 1 Axes>"
      ]
     },
     "metadata": {
      "needs_background": "light"
     },
     "output_type": "display_data"
    }
   ],
   "source": [
    "# Create another figure\n",
    "plt.figure(figsize=(10,6))\n",
    "\n",
    "# Scatter with positive examples\n",
    "plt.scatter(df.age[df.target==1], df.thalach[df.target==1], c=\"salmon\"); \n",
    "# no caso de age e thalach, estamos plotando somente as informações referentes a target = 1, ou seja,\n",
    "# referentes aos pacientes que apresentaram doenças cardíacas.\n",
    "plt.title(\"Heart Disease Frequency for Age vs. Max Heart Rate\")\n",
    "plt.xlabel(\"Age\")\n",
    "plt.ylabel(\"Max. Heart Rate\");"
   ]
  },
  {
   "cell_type": "code",
   "execution_count": 12,
   "id": "10f6c3c7",
   "metadata": {},
   "outputs": [
    {
     "data": {
      "image/png": "[encoded data removed]",
      "text/plain": [
       "<Figure size 720x432 with 1 Axes>"
      ]
     },
     "metadata": {
      "needs_background": "light"
     },
     "output_type": "display_data"
    }
   ],
   "source": [
    "# Create another figure\n",
    "plt.figure(figsize=(10,6))\n",
    "\n",
    "# Scatter with negative examples\n",
    "plt.scatter(df.age[df.target==0], df.thalach[df.target==0], c=\"salmon\"); \n",
    "# no caso de age e thalach, estamos plotando somente as informações referentes a target = 0, ou seja,\n",
    "# referentes aos pacientes que NÃO apresentaram doenças cardíacas.\n",
    "plt.title(\"No Heart Disease Frequency for Age vs. Max Heart Rate\")\n",
    "plt.xlabel(\"Age\")\n",
    "plt.ylabel(\"Max. Heart Rate\");"
   ]
  },
  {
   "cell_type": "code",
   "execution_count": 13,
   "id": "d7e03447",
   "metadata": {},
   "outputs": [
    {
     "data": {
      "image/png": "[encoded data removed]",
      "text/plain": [
       "<Figure size 720x432 with 2 Axes>"
      ]
     },
     "metadata": {
      "needs_background": "light"
     },
     "output_type": "display_data"
    }
   ],
   "source": [
    "fig, ax = plt.subplots(nrows=1, ncols=2, figsize=(10,6))\n",
    "\n",
    "# Scatter with positive examples\n",
    "ax[0].scatter = ax[0].scatter(x=df.age[df.target==1], y=df.thalach[df.target==1], c=\"salmon\");\n",
    "ax[0].set(title=\"Heart Disease Frequency for Age vs. Max Heart Rate\", xlabel=\"Age\", ylabel=\"Max. Heart Rate\")\n",
    "\n",
    "# Scatter with negative examples\n",
    "ax[1].scatter = ax[1].scatter(x=df.age[df.target==0], y=df.thalach[df.target==0], c=\"salmon\");\n",
    "ax[1].set(title=\"No Heart Disease Frequency for Age vs. Max Heart Rate\", xlabel=\"Age\", ylabel=\"Max. Heart Rate\");"
   ]
  },
  {
   "cell_type": "code",
   "execution_count": 14,
   "id": "b73036bc",
   "metadata": {},
   "outputs": [
    {
     "data": {
      "image/png": "[encoded data removed]",
      "text/plain": [
       "<Figure size 432x288 with 1 Axes>"
      ]
     },
     "metadata": {
      "needs_background": "light"
     },
     "output_type": "display_data"
    }
   ],
   "source": [
    "# Check the distribuition of the age column with a histogram\n",
    "df.age.plot.hist();"
   ]
  },
  {
   "cell_type": "markdown",
   "id": "f4e6c2e5",
   "metadata": {},
   "source": [
    "### Heart Disease Frequency per Chest Pain Type\n",
    "\n",
    "cp - Type of chest pain. (1 = typical angina, 2 = atypical angina, 3 = non — anginal pain, 4 = asymptotic);"
   ]
  },
  {
   "cell_type": "code",
   "execution_count": 15,
   "id": "d881601f",
   "metadata": {},
   "outputs": [
    {
     "data": {
      "text/html": [
       "<div>\n",
       "<style scoped>\n",
       "    .dataframe tbody tr th:only-of-type {\n",
       "        vertical-align: middle;\n",
       "    }\n",
       "\n",
       "    .dataframe tbody tr th {\n",
       "        vertical-align: top;\n",
       "    }\n",
       "\n",
       "    .dataframe thead th {\n",
       "        text-align: right;\n",
       "    }\n",
       "</style>\n",
       "<table border=\"1\" class=\"dataframe\">\n",
       "  <thead>\n",
       "    <tr style=\"text-align: right;\">\n",
       "      <th>target</th>\n",
       "      <th>0</th>\n",
       "      <th>1</th>\n",
       "    </tr>\n",
       "    <tr>\n",
       "      <th>cp</th>\n",
       "      <th></th>\n",
       "      <th></th>\n",
       "    </tr>\n",
       "  </thead>\n",
       "  <tbody>\n",
       "    <tr>\n",
       "      <th>0</th>\n",
       "      <td>104</td>\n",
       "      <td>39</td>\n",
       "    </tr>\n",
       "    <tr>\n",
       "      <th>1</th>\n",
       "      <td>9</td>\n",
       "      <td>41</td>\n",
       "    </tr>\n",
       "    <tr>\n",
       "      <th>2</th>\n",
       "      <td>18</td>\n",
       "      <td>69</td>\n",
       "    </tr>\n",
       "    <tr>\n",
       "      <th>3</th>\n",
       "      <td>7</td>\n",
       "      <td>16</td>\n",
       "    </tr>\n",
       "  </tbody>\n",
       "</table>\n",
       "</div>"
      ],
      "text/plain": [
       "target    0   1\n",
       "cp             \n",
       "0       104  39\n",
       "1         9  41\n",
       "2        18  69\n",
       "3         7  16"
      ]
     },
     "execution_count": 15,
     "metadata": {},
     "output_type": "execute_result"
    }
   ],
   "source": [
    "pd.crosstab(df.cp, df.target)"
   ]
  },
  {
   "cell_type": "code",
   "execution_count": 16,
   "id": "6e711823",
   "metadata": {},
   "outputs": [
    {
     "data": {
      "image/png": "[encoded data removed]",
      "text/plain": [
       "<Figure size 720x432 with 1 Axes>"
      ]
     },
     "metadata": {
      "needs_background": "light"
     },
     "output_type": "display_data"
    }
   ],
   "source": [
    "pd.crosstab(df.cp, df.target).plot(kind=\"bar\", figsize=(10,6), color=[\"salmon\", \"lightblue\"])\n",
    "plt.title(\"Heart Disease Frequency for Chest Pain Type\")\n",
    "plt.xlabel(\"Type of Chest Pain\")\n",
    "plt.ylabel(\"Amount\")\n",
    "plt.legend([\"No Disease\", \"Disease\"])\n",
    "plt.xticks(rotation=0);"
   ]
  },
  {
   "cell_type": "markdown",
   "id": "6fc43891",
   "metadata": {},
   "source": [
    "# Correlation matrix"
   ]
  },
  {
   "cell_type": "code",
   "execution_count": 17,
   "id": "a28d6bda",
   "metadata": {},
   "outputs": [
    {
     "data": {
      "text/html": [
       "<div>\n",
       "<style scoped>\n",
       "    .dataframe tbody tr th:only-of-type {\n",
       "        vertical-align: middle;\n",
       "    }\n",
       "\n",
       "    .dataframe tbody tr th {\n",
       "        vertical-align: top;\n",
       "    }\n",
       "\n",
       "    .dataframe thead th {\n",
       "        text-align: right;\n",
       "    }\n",
       "</style>\n",
       "<table border=\"1\" class=\"dataframe\">\n",
       "  <thead>\n",
       "    <tr style=\"text-align: right;\">\n",
       "      <th></th>\n",
       "      <th>age</th>\n",
       "      <th>sex</th>\n",
       "      <th>cp</th>\n",
       "      <th>trestbps</th>\n",
       "      <th>chol</th>\n",
       "      <th>fbs</th>\n",
       "      <th>restecg</th>\n",
       "      <th>thalach</th>\n",
       "      <th>exang</th>\n",
       "      <th>oldpeak</th>\n",
       "      <th>slope</th>\n",
       "      <th>ca</th>\n",
       "      <th>thal</th>\n",
       "      <th>target</th>\n",
       "    </tr>\n",
       "  </thead>\n",
       "  <tbody>\n",
       "    <tr>\n",
       "      <th>age</th>\n",
       "      <td>1.000000</td>\n",
       "      <td>-0.098447</td>\n",
       "      <td>-0.068653</td>\n",
       "      <td>0.279351</td>\n",
       "      <td>0.213678</td>\n",
       "      <td>0.121308</td>\n",
       "      <td>-0.116211</td>\n",
       "      <td>-0.398522</td>\n",
       "      <td>0.096801</td>\n",
       "      <td>0.210013</td>\n",
       "      <td>-0.168814</td>\n",
       "      <td>0.276326</td>\n",
       "      <td>0.068001</td>\n",
       "      <td>-0.225439</td>\n",
       "    </tr>\n",
       "    <tr>\n",
       "      <th>sex</th>\n",
       "      <td>-0.098447</td>\n",
       "      <td>1.000000</td>\n",
       "      <td>-0.049353</td>\n",
       "      <td>-0.056769</td>\n",
       "      <td>-0.197912</td>\n",
       "      <td>0.045032</td>\n",
       "      <td>-0.058196</td>\n",
       "      <td>-0.044020</td>\n",
       "      <td>0.141664</td>\n",
       "      <td>0.096093</td>\n",
       "      <td>-0.030711</td>\n",
       "      <td>0.118261</td>\n",
       "      <td>0.210041</td>\n",
       "      <td>-0.280937</td>\n",
       "    </tr>\n",
       "    <tr>\n",
       "      <th>cp</th>\n",
       "      <td>-0.068653</td>\n",
       "      <td>-0.049353</td>\n",
       "      <td>1.000000</td>\n",
       "      <td>0.047608</td>\n",
       "      <td>-0.076904</td>\n",
       "      <td>0.094444</td>\n",
       "      <td>0.044421</td>\n",
       "      <td>0.295762</td>\n",
       "      <td>-0.394280</td>\n",
       "      <td>-0.149230</td>\n",
       "      <td>0.119717</td>\n",
       "      <td>-0.181053</td>\n",
       "      <td>-0.161736</td>\n",
       "      <td>0.433798</td>\n",
       "    </tr>\n",
       "    <tr>\n",
       "      <th>trestbps</th>\n",
       "      <td>0.279351</td>\n",
       "      <td>-0.056769</td>\n",
       "      <td>0.047608</td>\n",
       "      <td>1.000000</td>\n",
       "      <td>0.123174</td>\n",
       "      <td>0.177531</td>\n",
       "      <td>-0.114103</td>\n",
       "      <td>-0.046698</td>\n",
       "      <td>0.067616</td>\n",
       "      <td>0.193216</td>\n",
       "      <td>-0.121475</td>\n",
       "      <td>0.101389</td>\n",
       "      <td>0.062210</td>\n",
       "      <td>-0.144931</td>\n",
       "    </tr>\n",
       "    <tr>\n",
       "      <th>chol</th>\n",
       "      <td>0.213678</td>\n",
       "      <td>-0.197912</td>\n",
       "      <td>-0.076904</td>\n",
       "      <td>0.123174</td>\n",
       "      <td>1.000000</td>\n",
       "      <td>0.013294</td>\n",
       "      <td>-0.151040</td>\n",
       "      <td>-0.009940</td>\n",
       "      <td>0.067023</td>\n",
       "      <td>0.053952</td>\n",
       "      <td>-0.004038</td>\n",
       "      <td>0.070511</td>\n",
       "      <td>0.098803</td>\n",
       "      <td>-0.085239</td>\n",
       "    </tr>\n",
       "    <tr>\n",
       "      <th>fbs</th>\n",
       "      <td>0.121308</td>\n",
       "      <td>0.045032</td>\n",
       "      <td>0.094444</td>\n",
       "      <td>0.177531</td>\n",
       "      <td>0.013294</td>\n",
       "      <td>1.000000</td>\n",
       "      <td>-0.084189</td>\n",
       "      <td>-0.008567</td>\n",
       "      <td>0.025665</td>\n",
       "      <td>0.005747</td>\n",
       "      <td>-0.059894</td>\n",
       "      <td>0.137979</td>\n",
       "      <td>-0.032019</td>\n",
       "      <td>-0.028046</td>\n",
       "    </tr>\n",
       "    <tr>\n",
       "      <th>restecg</th>\n",
       "      <td>-0.116211</td>\n",
       "      <td>-0.058196</td>\n",
       "      <td>0.044421</td>\n",
       "      <td>-0.114103</td>\n",
       "      <td>-0.151040</td>\n",
       "      <td>-0.084189</td>\n",
       "      <td>1.000000</td>\n",
       "      <td>0.044123</td>\n",
       "      <td>-0.070733</td>\n",
       "      <td>-0.058770</td>\n",
       "      <td>0.093045</td>\n",
       "      <td>-0.072042</td>\n",
       "      <td>-0.011981</td>\n",
       "      <td>0.137230</td>\n",
       "    </tr>\n",
       "    <tr>\n",
       "      <th>thalach</th>\n",
       "      <td>-0.398522</td>\n",
       "      <td>-0.044020</td>\n",
       "      <td>0.295762</td>\n",
       "      <td>-0.046698</td>\n",
       "      <td>-0.009940</td>\n",
       "      <td>-0.008567</td>\n",
       "      <td>0.044123</td>\n",
       "      <td>1.000000</td>\n",
       "      <td>-0.378812</td>\n",
       "      <td>-0.344187</td>\n",
       "      <td>0.386784</td>\n",
       "      <td>-0.213177</td>\n",
       "      <td>-0.096439</td>\n",
       "      <td>0.421741</td>\n",
       "    </tr>\n",
       "    <tr>\n",
       "      <th>exang</th>\n",
       "      <td>0.096801</td>\n",
       "      <td>0.141664</td>\n",
       "      <td>-0.394280</td>\n",
       "      <td>0.067616</td>\n",
       "      <td>0.067023</td>\n",
       "      <td>0.025665</td>\n",
       "      <td>-0.070733</td>\n",
       "      <td>-0.378812</td>\n",
       "      <td>1.000000</td>\n",
       "      <td>0.288223</td>\n",
       "      <td>-0.257748</td>\n",
       "      <td>0.115739</td>\n",
       "      <td>0.206754</td>\n",
       "      <td>-0.436757</td>\n",
       "    </tr>\n",
       "    <tr>\n",
       "      <th>oldpeak</th>\n",
       "      <td>0.210013</td>\n",
       "      <td>0.096093</td>\n",
       "      <td>-0.149230</td>\n",
       "      <td>0.193216</td>\n",
       "      <td>0.053952</td>\n",
       "      <td>0.005747</td>\n",
       "      <td>-0.058770</td>\n",
       "      <td>-0.344187</td>\n",
       "      <td>0.288223</td>\n",
       "      <td>1.000000</td>\n",
       "      <td>-0.577537</td>\n",
       "      <td>0.222682</td>\n",
       "      <td>0.210244</td>\n",
       "      <td>-0.430696</td>\n",
       "    </tr>\n",
       "    <tr>\n",
       "      <th>slope</th>\n",
       "      <td>-0.168814</td>\n",
       "      <td>-0.030711</td>\n",
       "      <td>0.119717</td>\n",
       "      <td>-0.121475</td>\n",
       "      <td>-0.004038</td>\n",
       "      <td>-0.059894</td>\n",
       "      <td>0.093045</td>\n",
       "      <td>0.386784</td>\n",
       "      <td>-0.257748</td>\n",
       "      <td>-0.577537</td>\n",
       "      <td>1.000000</td>\n",
       "      <td>-0.080155</td>\n",
       "      <td>-0.104764</td>\n",
       "      <td>0.345877</td>\n",
       "    </tr>\n",
       "    <tr>\n",
       "      <th>ca</th>\n",
       "      <td>0.276326</td>\n",
       "      <td>0.118261</td>\n",
       "      <td>-0.181053</td>\n",
       "      <td>0.101389</td>\n",
       "      <td>0.070511</td>\n",
       "      <td>0.137979</td>\n",
       "      <td>-0.072042</td>\n",
       "      <td>-0.213177</td>\n",
       "      <td>0.115739</td>\n",
       "      <td>0.222682</td>\n",
       "      <td>-0.080155</td>\n",
       "      <td>1.000000</td>\n",
       "      <td>0.151832</td>\n",
       "      <td>-0.391724</td>\n",
       "    </tr>\n",
       "    <tr>\n",
       "      <th>thal</th>\n",
       "      <td>0.068001</td>\n",
       "      <td>0.210041</td>\n",
       "      <td>-0.161736</td>\n",
       "      <td>0.062210</td>\n",
       "      <td>0.098803</td>\n",
       "      <td>-0.032019</td>\n",
       "      <td>-0.011981</td>\n",
       "      <td>-0.096439</td>\n",
       "      <td>0.206754</td>\n",
       "      <td>0.210244</td>\n",
       "      <td>-0.104764</td>\n",
       "      <td>0.151832</td>\n",
       "      <td>1.000000</td>\n",
       "      <td>-0.344029</td>\n",
       "    </tr>\n",
       "    <tr>\n",
       "      <th>target</th>\n",
       "      <td>-0.225439</td>\n",
       "      <td>-0.280937</td>\n",
       "      <td>0.433798</td>\n",
       "      <td>-0.144931</td>\n",
       "      <td>-0.085239</td>\n",
       "      <td>-0.028046</td>\n",
       "      <td>0.137230</td>\n",
       "      <td>0.421741</td>\n",
       "      <td>-0.436757</td>\n",
       "      <td>-0.430696</td>\n",
       "      <td>0.345877</td>\n",
       "      <td>-0.391724</td>\n",
       "      <td>-0.344029</td>\n",
       "      <td>1.000000</td>\n",
       "    </tr>\n",
       "  </tbody>\n",
       "</table>\n",
       "</div>"
      ],
      "text/plain": [
       "               age       sex        cp  trestbps      chol       fbs  \\\n",
       "age       1.000000 -0.098447 -0.068653  0.279351  0.213678  0.121308   \n",
       "sex      -0.098447  1.000000 -0.049353 -0.056769 -0.197912  0.045032   \n",
       "cp       -0.068653 -0.049353  1.000000  0.047608 -0.076904  0.094444   \n",
       "trestbps  0.279351 -0.056769  0.047608  1.000000  0.123174  0.177531   \n",
       "chol      0.213678 -0.197912 -0.076904  0.123174  1.000000  0.013294   \n",
       "fbs       0.121308  0.045032  0.094444  0.177531  0.013294  1.000000   \n",
       "restecg  -0.116211 -0.058196  0.044421 -0.114103 -0.151040 -0.084189   \n",
       "thalach  -0.398522 -0.044020  0.295762 -0.046698 -0.009940 -0.008567   \n",
       "exang     0.096801  0.141664 -0.394280  0.067616  0.067023  0.025665   \n",
       "oldpeak   0.210013  0.096093 -0.149230  0.193216  0.053952  0.005747   \n",
       "slope    -0.168814 -0.030711  0.119717 -0.121475 -0.004038 -0.059894   \n",
       "ca        0.276326  0.118261 -0.181053  0.101389  0.070511  0.137979   \n",
       "thal      0.068001  0.210041 -0.161736  0.062210  0.098803 -0.032019   \n",
       "target   -0.225439 -0.280937  0.433798 -0.144931 -0.085239 -0.028046   \n",
       "\n",
       "           restecg   thalach     exang   oldpeak     slope        ca  \\\n",
       "age      -0.116211 -0.398522  0.096801  0.210013 -0.168814  0.276326   \n",
       "sex      -0.058196 -0.044020  0.141664  0.096093 -0.030711  0.118261   \n",
       "cp        0.044421  0.295762 -0.394280 -0.149230  0.119717 -0.181053   \n",
       "trestbps -0.114103 -0.046698  0.067616  0.193216 -0.121475  0.101389   \n",
       "chol     -0.151040 -0.009940  0.067023  0.053952 -0.004038  0.070511   \n",
       "fbs      -0.084189 -0.008567  0.025665  0.005747 -0.059894  0.137979   \n",
       "restecg   1.000000  0.044123 -0.070733 -0.058770  0.093045 -0.072042   \n",
       "thalach   0.044123  1.000000 -0.378812 -0.344187  0.386784 -0.213177   \n",
       "exang    -0.070733 -0.378812  1.000000  0.288223 -0.257748  0.115739   \n",
       "oldpeak  -0.058770 -0.344187  0.288223  1.000000 -0.577537  0.222682   \n",
       "slope     0.093045  0.386784 -0.257748 -0.577537  1.000000 -0.080155   \n",
       "ca       -0.072042 -0.213177  0.115739  0.222682 -0.080155  1.000000   \n",
       "thal     -0.011981 -0.096439  0.206754  0.210244 -0.104764  0.151832   \n",
       "target    0.137230  0.421741 -0.436757 -0.430696  0.345877 -0.391724   \n",
       "\n",
       "              thal    target  \n",
       "age       0.068001 -0.225439  \n",
       "sex       0.210041 -0.280937  \n",
       "cp       -0.161736  0.433798  \n",
       "trestbps  0.062210 -0.144931  \n",
       "chol      0.098803 -0.085239  \n",
       "fbs      -0.032019 -0.028046  \n",
       "restecg  -0.011981  0.137230  \n",
       "thalach  -0.096439  0.421741  \n",
       "exang     0.206754 -0.436757  \n",
       "oldpeak   0.210244 -0.430696  \n",
       "slope    -0.104764  0.345877  \n",
       "ca        0.151832 -0.391724  \n",
       "thal      1.000000 -0.344029  \n",
       "target   -0.344029  1.000000  "
      ]
     },
     "execution_count": 17,
     "metadata": {},
     "output_type": "execute_result"
    }
   ],
   "source": [
    "df.corr()"
   ]
  },
  {
   "cell_type": "code",
   "execution_count": 18,
   "id": "c4fe1ac0",
   "metadata": {},
   "outputs": [
    {
     "data": {
      "image/png": "[encoded data removed]",
      "text/plain": [
       "<Figure size 1080x720 with 2 Axes>"
      ]
     },
     "metadata": {
      "needs_background": "light"
     },
     "output_type": "display_data"
    }
   ],
   "source": [
    "corr_matrix = df.corr()\n",
    "fig, ax = plt.subplots(figsize=(15,10))\n",
    "ax = sns.heatmap(corr_matrix, annot=True, linewidths=0.5, fmt=\".2f\", cmap=\"YlGnBu\")\n",
    "plt.yticks(rotation=0);\n",
    "# linewidths = espessura da linha, fmt = número de casas decimais por valor, cmap = color map\n",
    "\n",
    "# annotbool or rectangular dataset, optional\n",
    "# If True, write the data value in each cell. If an array-like with the same shape as data, then use this to \n",
    "# annotate the heatmap instead of the data. Note that DataFrames will match on position, not index."
   ]
  },
  {
   "cell_type": "markdown",
   "id": "c87bc5c3",
   "metadata": {},
   "source": [
    "# Modelling"
   ]
  },
  {
   "cell_type": "code",
   "execution_count": 19,
   "id": "ccf5eacc",
   "metadata": {},
   "outputs": [],
   "source": [
    "# Setup random seed\n",
    "np.random.seed(42)\n",
    "\n",
    "# Create the data\n",
    "X = df.drop(\"target\", axis=1)\n",
    "Y = df[\"target\"]\n",
    "\n",
    "# Split it into train and test sets\n",
    "X_train, X_test, Y_train, Y_test = train_test_split(X, Y, test_size=0.2)"
   ]
  },
  {
   "cell_type": "markdown",
   "id": "54ea8063",
   "metadata": {},
   "source": [
    "Three possible models to use:\n",
    "\n",
    "1. Logistic Regression\n",
    "2. K-Nearest Neighbours Classifier\n",
    "3. Random Forest Classifier"
   ]
  },
  {
   "cell_type": "code",
   "execution_count": 20,
   "id": "d8a82476",
   "metadata": {},
   "outputs": [],
   "source": [
    "# Let's create a dictionary containing all the models\n",
    "models = {\"Logistic Regression\": LogisticRegression(max_iter=1000),\n",
    "          \"KNN\": KNeighborsClassifier(),\n",
    "          \"Random Forest\": RandomForestClassifier()}\n",
    "\n",
    "# Create a function to fit and score the models\n",
    "def fit_and_score (models, X_train, X_test, Y_train, Y_test):\n",
    "    #np.random.seed(42)\n",
    "    # criando um dicionário (vazio) para os modelos - ele será preenchido conforme a função for utilizada em loop\n",
    "    model_scores = {}\n",
    "    # looping through the models\n",
    "    for name, model in models.items():\n",
    "        # fit the model\n",
    "        model.fit(X_train, Y_train)\n",
    "        # evaluate the model and append its score to model_scores\n",
    "        model_scores[name] = model.score(X_test, Y_test)\n",
    "    return model_scores"
   ]
  },
  {
   "cell_type": "code",
   "execution_count": 21,
   "id": "5271c8fc",
   "metadata": {},
   "outputs": [
    {
     "data": {
      "text/plain": [
       "{'Logistic Regression': 0.8852459016393442,\n",
       " 'KNN': 0.6885245901639344,\n",
       " 'Random Forest': 0.8524590163934426}"
      ]
     },
     "execution_count": 21,
     "metadata": {},
     "output_type": "execute_result"
    }
   ],
   "source": [
    "model_scores = fit_and_score(models=models, X_train=X_train, X_test=X_test, Y_train=Y_train, Y_test=Y_test)\n",
    "\n",
    "model_scores"
   ]
  },
  {
   "cell_type": "markdown",
   "id": "aa66915a",
   "metadata": {},
   "source": [
    "### Model comparison"
   ]
  },
  {
   "cell_type": "code",
   "execution_count": 22,
   "id": "45d336c0",
   "metadata": {},
   "outputs": [
    {
     "data": {
      "image/png": "[encoded data removed]",
      "text/plain": [
       "<Figure size 432x288 with 1 Axes>"
      ]
     },
     "metadata": {
      "needs_background": "light"
     },
     "output_type": "display_data"
    }
   ],
   "source": [
    "model_compare = pd.DataFrame(model_scores, index=[\"Accuracy\"])\n",
    "model_compare.T.plot.bar()\n",
    "plt.xticks(rotation=0);"
   ]
  },
  {
   "cell_type": "markdown",
   "id": "e5fdd3f7",
   "metadata": {},
   "source": [
    "Let's look at the following:\n",
    "* Hyperparameter tuning\n",
    "* Feature importance\n",
    "* Confusin matrix\n",
    "* Cross-validation\n",
    "* Precision\n",
    "* Recall\n",
    "* F1 score\n",
    "* Classification report\n",
    "* ROC curve\n",
    "* Area under the curve (AUC)"
   ]
  },
  {
   "cell_type": "markdown",
   "id": "c0e0ccd3",
   "metadata": {},
   "source": [
    "## Hyperparameter tuning (by hand)"
   ]
  },
  {
   "cell_type": "code",
   "execution_count": 23,
   "id": "22be9a3b",
   "metadata": {},
   "outputs": [],
   "source": [
    "# Tuning KNN\n",
    "train_scores = []\n",
    "test_scores = []\n",
    "\n",
    "# Create a list of different values for n_neighbors\n",
    "neighbors = range(1,21)\n",
    "\n",
    "# Setup KNN instance\n",
    "knn = KNeighborsClassifier()\n",
    "\n",
    "# Loop through differente n_neighbors\n",
    "for i in neighbors:\n",
    "    knn.set_params(n_neighbors=i)\n",
    "    \n",
    "    # Fit the algorithm\n",
    "    knn.fit(X_train, Y_train)\n",
    "    \n",
    "    # Update the training scores list\n",
    "    train_scores.append(knn.score(X_train, Y_train))\n",
    "    \n",
    "    # Update the test scores list\n",
    "    test_scores.append(knn.score(X_test, Y_test))"
   ]
  },
  {
   "cell_type": "code",
   "execution_count": 24,
   "id": "1e334524",
   "metadata": {},
   "outputs": [
    {
     "name": "stdout",
     "output_type": "stream",
     "text": [
      "Maximum KNN score on the test data: 75.41%\n"
     ]
    },
    {
     "data": {
      "image/png": "[encoded data removed]",
      "text/plain": [
       "<Figure size 432x288 with 1 Axes>"
      ]
     },
     "metadata": {
      "needs_background": "light"
     },
     "output_type": "display_data"
    }
   ],
   "source": [
    "plt.plot(neighbors, train_scores, label=\"Train Scores\")\n",
    "plt.plot(neighbors, test_scores, label=\"Test Scores\")\n",
    "plt.xticks(np.arange(1,21,1))\n",
    "plt.xlabel(\"Number of neighbors\")\n",
    "plt.ylabel(\"Scores\")\n",
    "plt.legend()\n",
    "\n",
    "print(f\"Maximum KNN score on the test data: {max(test_scores)*100:.2f}%\");"
   ]
  },
  {
   "cell_type": "markdown",
   "id": "bc53466a",
   "metadata": {},
   "source": [
    "# O melhor n_neighbors é n = 11! Mesmo assim, ele ainda continua o pior modelo até aqui!"
   ]
  },
  {
   "cell_type": "markdown",
   "id": "1c3677dd",
   "metadata": {},
   "source": [
    "## Hyperparameter tuning (with RandomizedSearchCV)"
   ]
  },
  {
   "cell_type": "code",
   "execution_count": 25,
   "id": "e6231157",
   "metadata": {},
   "outputs": [],
   "source": [
    "# Create a hyperparemeter grid for Logistic Regression\n",
    "\n",
    "log_reg_grid = {\"C\": np.logspace(-4, 4, 20),\n",
    "                \"solver\": [\"liblinear\"]}\n",
    "\n",
    "# Create a hyperparameter grid for Random Forest Classifier\n",
    "rf_grid = {\"n_estimators\": np.arange(10, 1000, 50),\n",
    "            \"max_depth\": [None, 3, 5, 10],\n",
    "            \"min_samples_split\": np.arange(2, 20, 2),\n",
    "            \"min_samples_leaf\": np.arange(1, 20, 2)}"
   ]
  },
  {
   "cell_type": "code",
   "execution_count": 27,
   "id": "23e58714",
   "metadata": {},
   "outputs": [
    {
     "name": "stdout",
     "output_type": "stream",
     "text": [
      "Fitting 5 folds for each of 20 candidates, totalling 100 fits\n"
     ]
    },
    {
     "data": {
      "text/plain": [
       "RandomizedSearchCV(cv=5, estimator=LogisticRegression(), n_iter=20,\n",
       "                   param_distributions={'C': array([1.00000000e-04, 2.63665090e-04, 6.95192796e-04, 1.83298071e-03,\n",
       "       4.83293024e-03, 1.27427499e-02, 3.35981829e-02, 8.85866790e-02,\n",
       "       2.33572147e-01, 6.15848211e-01, 1.62377674e+00, 4.28133240e+00,\n",
       "       1.12883789e+01, 2.97635144e+01, 7.84759970e+01, 2.06913808e+02,\n",
       "       5.45559478e+02, 1.43844989e+03, 3.79269019e+03, 1.00000000e+04]),\n",
       "                                        'solver': ['liblinear']},\n",
       "                   verbose=True)"
      ]
     },
     "execution_count": 27,
     "metadata": {},
     "output_type": "execute_result"
    }
   ],
   "source": [
    "# Tuning Logistic Regression\n",
    "np.random.seed(42)\n",
    "\n",
    "# Setup random hyperparameter search for Logistic Regression\n",
    "rs_log_reg = RandomizedSearchCV(LogisticRegression(),\n",
    "                                param_distributions = log_reg_grid,\n",
    "                                cv = 5,\n",
    "                                n_iter = 20,\n",
    "                                verbose=True)\n",
    "\n",
    "# Fit random hyperparameter search model for Logistic Regression\n",
    "rs_log_reg.fit(X_train, Y_train)"
   ]
  },
  {
   "cell_type": "code",
   "execution_count": 29,
   "id": "e68a10df",
   "metadata": {},
   "outputs": [
    {
     "data": {
      "text/plain": [
       "{'solver': 'liblinear', 'C': 0.23357214690901212}"
      ]
     },
     "execution_count": 29,
     "metadata": {},
     "output_type": "execute_result"
    }
   ],
   "source": [
    "rs_log_reg.best_params_"
   ]
  },
  {
   "cell_type": "code",
   "execution_count": 30,
   "id": "30952530",
   "metadata": {},
   "outputs": [
    {
     "data": {
      "text/plain": [
       "0.8852459016393442"
      ]
     },
     "execution_count": 30,
     "metadata": {},
     "output_type": "execute_result"
    }
   ],
   "source": [
    "rs_log_reg.score(X_test, Y_test)"
   ]
  },
  {
   "cell_type": "code",
   "execution_count": 32,
   "id": "d50a02b5",
   "metadata": {},
   "outputs": [
    {
     "name": "stdout",
     "output_type": "stream",
     "text": [
      "Fitting 5 folds for each of 20 candidates, totalling 100 fits\n"
     ]
    },
    {
     "data": {
      "text/plain": [
       "RandomizedSearchCV(cv=5, estimator=RandomForestClassifier(), n_iter=20,\n",
       "                   param_distributions={'max_depth': [None, 3, 5, 10],\n",
       "                                        'min_samples_leaf': array([ 1,  3,  5,  7,  9, 11, 13, 15, 17, 19]),\n",
       "                                        'min_samples_split': array([ 2,  4,  6,  8, 10, 12, 14, 16, 18]),\n",
       "                                        'n_estimators': array([ 10,  60, 110, 160, 210, 260, 310, 360, 410, 460, 510, 560, 610,\n",
       "       660, 710, 760, 810, 860, 910, 960])},\n",
       "                   verbose=True)"
      ]
     },
     "execution_count": 32,
     "metadata": {},
     "output_type": "execute_result"
    }
   ],
   "source": [
    "# Tuning Random Forest Classifier\n",
    "np.random.seed(42)\n",
    "\n",
    "# Setup random hyperparameter search for Random Forest Classifier\n",
    "rs_rf = RandomizedSearchCV(RandomForestClassifier(),\n",
    "                                param_distributions = rf_grid,\n",
    "                                cv = 5,\n",
    "                                n_iter = 20,\n",
    "                                verbose=True)\n",
    "\n",
    "# Fit random hyperparameter search model for Random Forest Classifier\n",
    "rs_rf.fit(X_train, Y_train)"
   ]
  },
  {
   "cell_type": "code",
   "execution_count": 33,
   "id": "e86534aa",
   "metadata": {},
   "outputs": [
    {
     "data": {
      "text/plain": [
       "{'n_estimators': 210,\n",
       " 'min_samples_split': 4,\n",
       " 'min_samples_leaf': 19,\n",
       " 'max_depth': 3}"
      ]
     },
     "execution_count": 33,
     "metadata": {},
     "output_type": "execute_result"
    }
   ],
   "source": [
    "rs_rf.best_params_"
   ]
  },
  {
   "cell_type": "code",
   "execution_count": 34,
   "id": "aa46a996",
   "metadata": {},
   "outputs": [
    {
     "data": {
      "text/plain": [
       "0.8688524590163934"
      ]
     },
     "execution_count": 34,
     "metadata": {},
     "output_type": "execute_result"
    }
   ],
   "source": [
    "rs_rf.score(X_test, Y_test)"
   ]
  },
  {
   "cell_type": "markdown",
   "id": "55bdbfe3",
   "metadata": {},
   "source": [
    "## Hyperparameter tuning (with GridSearchCV)"
   ]
  },
  {
   "cell_type": "code",
   "execution_count": 36,
   "id": "684c84b2",
   "metadata": {},
   "outputs": [
    {
     "name": "stdout",
     "output_type": "stream",
     "text": [
      "Fitting 5 folds for each of 30 candidates, totalling 150 fits\n"
     ]
    },
    {
     "data": {
      "text/plain": [
       "GridSearchCV(cv=5, estimator=LogisticRegression(),\n",
       "             param_grid={'C': array([1.00000000e-04, 1.88739182e-04, 3.56224789e-04, 6.72335754e-04,\n",
       "       1.26896100e-03, 2.39502662e-03, 4.52035366e-03, 8.53167852e-03,\n",
       "       1.61026203e-02, 3.03919538e-02, 5.73615251e-02, 1.08263673e-01,\n",
       "       2.04335972e-01, 3.85662042e-01, 7.27895384e-01, 1.37382380e+00,\n",
       "       2.59294380e+00, 4.89390092e+00, 9.23670857e+00, 1.74332882e+01,\n",
       "       3.29034456e+01, 6.21016942e+01, 1.17210230e+02, 2.21221629e+02,\n",
       "       4.17531894e+02, 7.88046282e+02, 1.48735211e+03, 2.80721620e+03,\n",
       "       5.29831691e+03, 1.00000000e+04]),\n",
       "                         'solver': ['liblinear']},\n",
       "             verbose=True)"
      ]
     },
     "execution_count": 36,
     "metadata": {},
     "output_type": "execute_result"
    }
   ],
   "source": [
    "# Create a hyperparemeter grid for Logistic Regression\n",
    "\n",
    "log_reg_grid = {\"C\": np.logspace(-4, 4, 30),\n",
    "                \"solver\": [\"liblinear\"]}\n",
    "\n",
    "# Create a hyperparameter grid for Logistic Regression\n",
    "gs_log_reg = GridSearchCV(LogisticRegression(),\n",
    "                     param_grid = log_reg_grid,\n",
    "                     cv = 5,\n",
    "                     verbose=True)\n",
    "\n",
    "# Fit random hyperparameter search model for Logistic Regression\n",
    "gs_log_reg.fit(X_train, Y_train)"
   ]
  },
  {
   "cell_type": "code",
   "execution_count": 37,
   "id": "c27ca18e",
   "metadata": {},
   "outputs": [
    {
     "data": {
      "text/plain": [
       "{'C': 0.20433597178569418, 'solver': 'liblinear'}"
      ]
     },
     "execution_count": 37,
     "metadata": {},
     "output_type": "execute_result"
    }
   ],
   "source": [
    "gs_log_reg.best_params_"
   ]
  },
  {
   "cell_type": "code",
   "execution_count": 38,
   "id": "e4afa070",
   "metadata": {},
   "outputs": [
    {
     "data": {
      "text/plain": [
       "0.8852459016393442"
      ]
     },
     "execution_count": 38,
     "metadata": {},
     "output_type": "execute_result"
    }
   ],
   "source": [
    "gs_log_reg.score(X_test, Y_test)"
   ]
  },
  {
   "cell_type": "markdown",
   "id": "13ae8979",
   "metadata": {},
   "source": [
    "# Evaluating our tuned machine learning classifier, beyond accuracy\n",
    "\n",
    "* ROC curve and AUC score\n",
    "* Confusion matrix\n",
    "* Classification report\n",
    "* Precision\n",
    "* Recall\n",
    "* F1-score"
   ]
  },
  {
   "cell_type": "code",
   "execution_count": 43,
   "id": "2a8fd86e",
   "metadata": {},
   "outputs": [],
   "source": [
    "# Make predictions with tuned model\n",
    "Y_preds = gs_log_reg.predict(X_test)"
   ]
  },
  {
   "cell_type": "code",
   "execution_count": 45,
   "id": "afdca68d",
   "metadata": {},
   "outputs": [
    {
     "name": "stderr",
     "output_type": "stream",
     "text": [
      "C:\\Users\\silva\\anaconda3\\lib\\site-packages\\sklearn\\utils\\deprecation.py:87: FutureWarning: Function plot_roc_curve is deprecated; Function :func:`plot_roc_curve` is deprecated in 1.0 and will be removed in 1.2. Use one of the class methods: :meth:`sklearn.metric.RocCurveDisplay.from_predictions` or :meth:`sklearn.metric.RocCurveDisplay.from_estimator`.\n",
      "  warnings.warn(msg, category=FutureWarning)\n"
     ]
    },
    {
     "data": {
      "image/png": "[encoded data removed]",
      "text/plain": [
       "<Figure size 432x288 with 1 Axes>"
      ]
     },
     "metadata": {
      "needs_background": "light"
     },
     "output_type": "display_data"
    }
   ],
   "source": [
    "# Plotting ROC curve and calculating AUC score\n",
    "plot_roc_curve(gs_log_reg, X_test, Y_test);"
   ]
  },
  {
   "cell_type": "code",
   "execution_count": 46,
   "id": "2e780e3d",
   "metadata": {},
   "outputs": [
    {
     "name": "stdout",
     "output_type": "stream",
     "text": [
      "[[25  4]\n",
      " [ 3 29]]\n"
     ]
    }
   ],
   "source": [
    "# Confusion matrix\n",
    "print(confusion_matrix(Y_test, Y_preds))"
   ]
  },
  {
   "cell_type": "code",
   "execution_count": 48,
   "id": "1d551213",
   "metadata": {},
   "outputs": [
    {
     "data": {
      "image/png": "[encoded data removed]",
      "text/plain": [
       "<Figure size 216x216 with 1 Axes>"
      ]
     },
     "metadata": {},
     "output_type": "display_data"
    }
   ],
   "source": [
    "sns.set(font_scale=1.5)\n",
    "\n",
    "def plot_conf_mat(Y_test, Y_preds):\n",
    "    fig, ax = plt.subplots(figsize=(3,3))\n",
    "    ax = sns.heatmap(confusion_matrix(Y_test, Y_preds),\n",
    "                     annot=True,\n",
    "                     cbar=False)\n",
    "    plt.xlabel(\"Predicted label\")\n",
    "    plt.ylabel(\"True label\")\n",
    "\n",
    "plot_conf_mat(Y_test, Y_preds)"
   ]
  },
  {
   "cell_type": "markdown",
   "id": "fc0a2b7e",
   "metadata": {},
   "source": [
    "Let's get a classification report as well as a cross-validated precision, recall and f1 score"
   ]
  },
  {
   "cell_type": "code",
   "execution_count": 50,
   "id": "d8df4d29",
   "metadata": {},
   "outputs": [
    {
     "name": "stdout",
     "output_type": "stream",
     "text": [
      "              precision    recall  f1-score   support\n",
      "\n",
      "           0       0.89      0.86      0.88        29\n",
      "           1       0.88      0.91      0.89        32\n",
      "\n",
      "    accuracy                           0.89        61\n",
      "   macro avg       0.89      0.88      0.88        61\n",
      "weighted avg       0.89      0.89      0.89        61\n",
      "\n"
     ]
    }
   ],
   "source": [
    "print(classification_report(Y_test, Y_preds))"
   ]
  },
  {
   "cell_type": "markdown",
   "id": "19c7578e",
   "metadata": {},
   "source": [
    "### Calculate evaluations using cross-validation"
   ]
  },
  {
   "cell_type": "code",
   "execution_count": 51,
   "id": "c050c3bf",
   "metadata": {},
   "outputs": [
    {
     "data": {
      "text/plain": [
       "{'C': 0.20433597178569418, 'solver': 'liblinear'}"
      ]
     },
     "execution_count": 51,
     "metadata": {},
     "output_type": "execute_result"
    }
   ],
   "source": [
    "# Checking the best parameters\n",
    "gs_log_reg.best_params_"
   ]
  },
  {
   "cell_type": "code",
   "execution_count": 53,
   "id": "b064981a",
   "metadata": {},
   "outputs": [],
   "source": [
    "# Creating a new classifier with the best parameters\n",
    "clf = LogisticRegression(C=0.20433597178569418,\n",
    "                        solver=\"liblinear\")"
   ]
  },
  {
   "cell_type": "code",
   "execution_count": 55,
   "id": "2eec2966",
   "metadata": {},
   "outputs": [
    {
     "data": {
      "text/plain": [
       "array([0.81967213, 0.90163934, 0.86885246, 0.88333333, 0.75      ])"
      ]
     },
     "execution_count": 55,
     "metadata": {},
     "output_type": "execute_result"
    }
   ],
   "source": [
    "# Cross-validated accuracy\n",
    "cv_acc = cross_val_score(clf, X, Y, cv = 5, scoring=\"accuracy\")\n",
    "\n",
    "cv_acc"
   ]
  },
  {
   "cell_type": "code",
   "execution_count": 57,
   "id": "eefd78eb",
   "metadata": {},
   "outputs": [
    {
     "data": {
      "text/plain": [
       "0.8446994535519124"
      ]
     },
     "execution_count": 57,
     "metadata": {},
     "output_type": "execute_result"
    }
   ],
   "source": [
    "cv_acc_mean = np.mean(cv_acc)\n",
    "cv_acc_mean"
   ]
  },
  {
   "cell_type": "code",
   "execution_count": 58,
   "id": "d954b81c",
   "metadata": {},
   "outputs": [
    {
     "data": {
      "text/plain": [
       "array([0.775     , 0.88571429, 0.85714286, 0.86111111, 0.725     ])"
      ]
     },
     "execution_count": 58,
     "metadata": {},
     "output_type": "execute_result"
    }
   ],
   "source": [
    "# Cross-validated precision\n",
    "cv_precision = cross_val_score(clf, X, Y, cv = 5, scoring=\"precision\")\n",
    "\n",
    "cv_precision"
   ]
  },
  {
   "cell_type": "code",
   "execution_count": 59,
   "id": "566a7534",
   "metadata": {},
   "outputs": [
    {
     "data": {
      "text/plain": [
       "0.8207936507936507"
      ]
     },
     "execution_count": 59,
     "metadata": {},
     "output_type": "execute_result"
    }
   ],
   "source": [
    "cv_precision_mean = np.mean(cv_precision)\n",
    "cv_precision_mean"
   ]
  },
  {
   "cell_type": "code",
   "execution_count": 60,
   "id": "db7981e1",
   "metadata": {},
   "outputs": [
    {
     "data": {
      "text/plain": [
       "array([0.93939394, 0.93939394, 0.90909091, 0.93939394, 0.87878788])"
      ]
     },
     "execution_count": 60,
     "metadata": {},
     "output_type": "execute_result"
    }
   ],
   "source": [
    "# Cross-validated recall\n",
    "cv_recall = cross_val_score(clf, X, Y, cv = 5, scoring=\"recall\")\n",
    "\n",
    "cv_recall"
   ]
  },
  {
   "cell_type": "code",
   "execution_count": 61,
   "id": "0dc55176",
   "metadata": {},
   "outputs": [
    {
     "data": {
      "text/plain": [
       "0.9212121212121213"
      ]
     },
     "execution_count": 61,
     "metadata": {},
     "output_type": "execute_result"
    }
   ],
   "source": [
    "cv_recall_mean = np.mean(cv_recall)\n",
    "cv_recall_mean"
   ]
  },
  {
   "cell_type": "code",
   "execution_count": 62,
   "id": "22506c23",
   "metadata": {},
   "outputs": [
    {
     "data": {
      "text/plain": [
       "array([0.84931507, 0.91176471, 0.88235294, 0.89855072, 0.79452055])"
      ]
     },
     "execution_count": 62,
     "metadata": {},
     "output_type": "execute_result"
    }
   ],
   "source": [
    "# Cross-validated f1-score\n",
    "cv_f1 = cross_val_score(clf, X, Y, cv = 5, scoring=\"f1\")\n",
    "\n",
    "cv_f1"
   ]
  },
  {
   "cell_type": "code",
   "execution_count": 63,
   "id": "95e3b73d",
   "metadata": {},
   "outputs": [
    {
     "data": {
      "text/plain": [
       "0.8673007976269721"
      ]
     },
     "execution_count": 63,
     "metadata": {},
     "output_type": "execute_result"
    }
   ],
   "source": [
    "cv_f1_mean = np.mean(cv_f1)\n",
    "cv_f1_mean"
   ]
  },
  {
   "cell_type": "code",
   "execution_count": 65,
   "id": "f3ee2406",
   "metadata": {},
   "outputs": [
    {
     "data": {
      "image/png": "[encoded data removed]",
      "text/plain": [
       "<Figure size 432x288 with 1 Axes>"
      ]
     },
     "metadata": {},
     "output_type": "display_data"
    }
   ],
   "source": [
    "# Visualizing our cross-validated metrics\n",
    "cv_metrics = pd.DataFrame({\"Accuracy\": cv_acc_mean,\n",
    "                            \"Precision\": cv_precision_mean,\n",
    "                            \"Recall\": cv_recall_mean,\n",
    "                            \"F1\": cv_f1_mean},\n",
    "                            index=[0])\n",
    "\n",
    "cv_metrics.T.plot.bar(title=\"Cross-validated Classification Metrics\",\n",
    "                      legend=False)\n",
    "plt.xticks(rotation=0);"
   ]
  },
  {
   "cell_type": "markdown",
   "id": "39f136f5",
   "metadata": {},
   "source": [
    "### Feature Importance"
   ]
  },
  {
   "cell_type": "code",
   "execution_count": 66,
   "id": "a89cc479",
   "metadata": {},
   "outputs": [],
   "source": [
    "# Fitting an instance of Logistic Regression\n",
    "clf = LogisticRegression(C=0.20433597178569418,\n",
    "                        solver=\"liblinear\")\n",
    "clf.fit(X_train, Y_train);"
   ]
  },
  {
   "cell_type": "code",
   "execution_count": 67,
   "id": "cbec286d",
   "metadata": {},
   "outputs": [
    {
     "data": {
      "text/plain": [
       "array([[ 0.00316728, -0.86044674,  0.66067031, -0.01156993, -0.00166375,\n",
       "         0.04386101,  0.31275865,  0.02459362, -0.60413094, -0.56862789,\n",
       "         0.45051632, -0.63609908, -0.67663375]])"
      ]
     },
     "execution_count": 67,
     "metadata": {},
     "output_type": "execute_result"
    }
   ],
   "source": [
    "# Check coef_\n",
    "clf.coef_"
   ]
  },
  {
   "cell_type": "code",
   "execution_count": 68,
   "id": "23e508df",
   "metadata": {},
   "outputs": [
    {
     "data": {
      "text/plain": [
       "{'age': 0.0031672830780218957,\n",
       " 'sex': -0.8604467440762573,\n",
       " 'cp': 0.6606703120090932,\n",
       " 'trestbps': -0.011569932037408597,\n",
       " 'chol': -0.00166374523064295,\n",
       " 'fbs': 0.043861009724542044,\n",
       " 'restecg': 0.3127586507840532,\n",
       " 'thalach': 0.024593615555173243,\n",
       " 'exang': -0.6041309439103262,\n",
       " 'oldpeak': -0.5686278914396258,\n",
       " 'slope': 0.4505163222528207,\n",
       " 'ca': -0.6360990763634887,\n",
       " 'thal': -0.6766337475895309}"
      ]
     },
     "execution_count": 68,
     "metadata": {},
     "output_type": "execute_result"
    }
   ],
   "source": [
    "# Match coef's of features to columns\n",
    "feature_dict = dict(zip(df.columns, list(clf.coef_[0])))\n",
    "feature_dict"
   ]
  },
  {
   "cell_type": "code",
   "execution_count": 86,
   "id": "17b87992",
   "metadata": {},
   "outputs": [
    {
     "data": {
      "image/png": "[encoded data removed]",
      "text/plain": [
       "<Figure size 1800x720 with 1 Axes>"
      ]
     },
     "metadata": {},
     "output_type": "display_data"
    }
   ],
   "source": [
    "# Visualizing our coefs\n",
    "vis_coef = pd.DataFrame((feature_dict),index=[0])\n",
    "\n",
    "vis_coef.T.plot.bar(title=\"Feature Importance\", figsize=(25,10), legend=False)\n",
    "plt.xticks(rotation=0);"
   ]
  },
  {
   "cell_type": "code",
   "execution_count": null,
   "id": "8ad65442",
   "metadata": {},
   "outputs": [],
   "source": []
  }
 ],
 "metadata": {
  "kernelspec": {
   "display_name": "Python 3 (ipykernel)",
   "language": "python",
   "name": "python3"
  },
  "language_info": {
   "codemirror_mode": {
    "name": "ipython",
    "version": 3
   },
   "file_extension": ".py",
   "mimetype": "text/x-python",
   "name": "python",
   "nbconvert_exporter": "python",
   "pygments_lexer": "ipython3",
   "version": "3.9.12"
  }
 },
 "nbformat": 4,
 "nbformat_minor": 5
}
